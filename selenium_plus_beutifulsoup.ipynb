{
 "cells": [
  {
   "cell_type": "code",
   "execution_count": 1,
   "id": "fb14196d",
   "metadata": {},
   "outputs": [],
   "source": [
    "import time\n",
    "\n",
    "from bs4 import BeautifulSoup\n",
    "\n",
    "from selenium import webdriver\n",
    "from selenium.webdriver.support.ui import WebDriverWait\n",
    "from selenium.webdriver.common.by import By\n",
    "from selenium.webdriver.chrome.service import Service\n",
    "from selenium.webdriver.chrome.options import Options\n",
    "from selenium.webdriver.support import expected_conditions as EC"
   ]
  },
  {
   "cell_type": "code",
   "execution_count": 2,
   "id": "bcdd4057",
   "metadata": {},
   "outputs": [],
   "source": [
    "# Setando opções do navegador chrome automático\n",
    "options = Options()\n",
    "options.add_argument(\"--lang=pt\")\n",
    "options.add_argument(\"--incongnito\")"
   ]
  },
  {
   "cell_type": "code",
   "execution_count": 19,
   "id": "dea4129a",
   "metadata": {},
   "outputs": [
    {
     "name": "stderr",
     "output_type": "stream",
     "text": [
      "/tmp/ipykernel_1488842/3428105764.py:2: DeprecationWarning: use options instead of chrome_options\n",
      "  driver = webdriver.Chrome(chrome_options=options)\n"
     ]
    },
    {
     "ename": "NoSuchWindowException",
     "evalue": "Message: no such window: target window already closed\nfrom unknown error: web view not found\n  (Session info: chrome=112.0.5615.49)\nStacktrace:\n#0 0x55b92d8c1fe3 <unknown>\n#1 0x55b92d600d36 <unknown>\n#2 0x55b92d5dbb2c <unknown>\n#3 0x55b92d66383f <unknown>\n#4 0x55b92d676c86 <unknown>\n#5 0x55b92d65e693 <unknown>\n#6 0x55b92d63103a <unknown>\n#7 0x55b92d63217e <unknown>\n#8 0x55b92d883dbd <unknown>\n#9 0x55b92d887c6c <unknown>\n#10 0x55b92d8914b0 <unknown>\n#11 0x55b92d888d63 <unknown>\n#12 0x55b92d85bc35 <unknown>\n#13 0x55b92d8ac138 <unknown>\n#14 0x55b92d8ac2c7 <unknown>\n#15 0x55b92d8ba093 <unknown>\n#16 0x7f3a879fb609 start_thread\n",
     "output_type": "error",
     "traceback": [
      "\u001b[0;31m---------------------------------------------------------------------------\u001b[0m",
      "\u001b[0;31mNoSuchWindowException\u001b[0m                     Traceback (most recent call last)",
      "Cell \u001b[0;32mIn[19], line 34\u001b[0m\n\u001b[1;32m     31\u001b[0m     time\u001b[38;5;241m.\u001b[39msleep(\u001b[38;5;241m2\u001b[39m)\n\u001b[1;32m     33\u001b[0m \u001b[38;5;66;03m# Parseando todas informações disponíveis na tela\u001b[39;00m\n\u001b[0;32m---> 34\u001b[0m response \u001b[38;5;241m=\u001b[39m BeautifulSoup(\u001b[43mdriver\u001b[49m\u001b[38;5;241;43m.\u001b[39;49m\u001b[43mpage_source\u001b[49m, \u001b[38;5;124m'\u001b[39m\u001b[38;5;124mhtml.parser\u001b[39m\u001b[38;5;124m'\u001b[39m)\n\u001b[1;32m     35\u001b[0m avaliacoes \u001b[38;5;241m=\u001b[39m response\u001b[38;5;241m.\u001b[39mfind_all(\u001b[38;5;124m'\u001b[39m\u001b[38;5;124mdiv\u001b[39m\u001b[38;5;124m'\u001b[39m, class_\u001b[38;5;241m=\u001b[39m\u001b[38;5;124m'\u001b[39m\u001b[38;5;124mjftiEf fontBodyMedium\u001b[39m\u001b[38;5;124m'\u001b[39m)\n\u001b[1;32m     36\u001b[0m i \u001b[38;5;241m=\u001b[39m \u001b[38;5;241m0\u001b[39m\n",
      "File \u001b[0;32m~/.local/lib/python3.8/site-packages/selenium/webdriver/remote/webdriver.py:541\u001b[0m, in \u001b[0;36mWebDriver.page_source\u001b[0;34m(self)\u001b[0m\n\u001b[1;32m    532\u001b[0m \u001b[38;5;129m@property\u001b[39m\n\u001b[1;32m    533\u001b[0m \u001b[38;5;28;01mdef\u001b[39;00m \u001b[38;5;21mpage_source\u001b[39m(\u001b[38;5;28mself\u001b[39m) \u001b[38;5;241m-\u001b[39m\u001b[38;5;241m>\u001b[39m \u001b[38;5;28mstr\u001b[39m:\n\u001b[1;32m    534\u001b[0m \u001b[38;5;250m    \u001b[39m\u001b[38;5;124;03m\"\"\"Gets the source of the current page.\u001b[39;00m\n\u001b[1;32m    535\u001b[0m \n\u001b[1;32m    536\u001b[0m \u001b[38;5;124;03m    :Usage:\u001b[39;00m\n\u001b[0;32m   (...)\u001b[0m\n\u001b[1;32m    539\u001b[0m \u001b[38;5;124;03m            driver.page_source\u001b[39;00m\n\u001b[1;32m    540\u001b[0m \u001b[38;5;124;03m    \"\"\"\u001b[39;00m\n\u001b[0;32m--> 541\u001b[0m     \u001b[38;5;28;01mreturn\u001b[39;00m \u001b[38;5;28;43mself\u001b[39;49m\u001b[38;5;241;43m.\u001b[39;49m\u001b[43mexecute\u001b[49m\u001b[43m(\u001b[49m\u001b[43mCommand\u001b[49m\u001b[38;5;241;43m.\u001b[39;49m\u001b[43mGET_PAGE_SOURCE\u001b[49m\u001b[43m)\u001b[49m[\u001b[38;5;124m\"\u001b[39m\u001b[38;5;124mvalue\u001b[39m\u001b[38;5;124m\"\u001b[39m]\n",
      "File \u001b[0;32m~/.local/lib/python3.8/site-packages/selenium/webdriver/remote/webdriver.py:440\u001b[0m, in \u001b[0;36mWebDriver.execute\u001b[0;34m(self, driver_command, params)\u001b[0m\n\u001b[1;32m    438\u001b[0m response \u001b[38;5;241m=\u001b[39m \u001b[38;5;28mself\u001b[39m\u001b[38;5;241m.\u001b[39mcommand_executor\u001b[38;5;241m.\u001b[39mexecute(driver_command, params)\n\u001b[1;32m    439\u001b[0m \u001b[38;5;28;01mif\u001b[39;00m response:\n\u001b[0;32m--> 440\u001b[0m     \u001b[38;5;28;43mself\u001b[39;49m\u001b[38;5;241;43m.\u001b[39;49m\u001b[43merror_handler\u001b[49m\u001b[38;5;241;43m.\u001b[39;49m\u001b[43mcheck_response\u001b[49m\u001b[43m(\u001b[49m\u001b[43mresponse\u001b[49m\u001b[43m)\u001b[49m\n\u001b[1;32m    441\u001b[0m     response[\u001b[38;5;124m\"\u001b[39m\u001b[38;5;124mvalue\u001b[39m\u001b[38;5;124m\"\u001b[39m] \u001b[38;5;241m=\u001b[39m \u001b[38;5;28mself\u001b[39m\u001b[38;5;241m.\u001b[39m_unwrap_value(response\u001b[38;5;241m.\u001b[39mget(\u001b[38;5;124m\"\u001b[39m\u001b[38;5;124mvalue\u001b[39m\u001b[38;5;124m\"\u001b[39m, \u001b[38;5;28;01mNone\u001b[39;00m))\n\u001b[1;32m    442\u001b[0m     \u001b[38;5;28;01mreturn\u001b[39;00m response\n",
      "File \u001b[0;32m~/.local/lib/python3.8/site-packages/selenium/webdriver/remote/errorhandler.py:245\u001b[0m, in \u001b[0;36mErrorHandler.check_response\u001b[0;34m(self, response)\u001b[0m\n\u001b[1;32m    243\u001b[0m         alert_text \u001b[38;5;241m=\u001b[39m value[\u001b[38;5;124m\"\u001b[39m\u001b[38;5;124malert\u001b[39m\u001b[38;5;124m\"\u001b[39m]\u001b[38;5;241m.\u001b[39mget(\u001b[38;5;124m\"\u001b[39m\u001b[38;5;124mtext\u001b[39m\u001b[38;5;124m\"\u001b[39m)\n\u001b[1;32m    244\u001b[0m     \u001b[38;5;28;01mraise\u001b[39;00m exception_class(message, screen, stacktrace, alert_text)  \u001b[38;5;66;03m# type: ignore[call-arg]  # mypy is not smart enough here\u001b[39;00m\n\u001b[0;32m--> 245\u001b[0m \u001b[38;5;28;01mraise\u001b[39;00m exception_class(message, screen, stacktrace)\n",
      "\u001b[0;31mNoSuchWindowException\u001b[0m: Message: no such window: target window already closed\nfrom unknown error: web view not found\n  (Session info: chrome=112.0.5615.49)\nStacktrace:\n#0 0x55b92d8c1fe3 <unknown>\n#1 0x55b92d600d36 <unknown>\n#2 0x55b92d5dbb2c <unknown>\n#3 0x55b92d66383f <unknown>\n#4 0x55b92d676c86 <unknown>\n#5 0x55b92d65e693 <unknown>\n#6 0x55b92d63103a <unknown>\n#7 0x55b92d63217e <unknown>\n#8 0x55b92d883dbd <unknown>\n#9 0x55b92d887c6c <unknown>\n#10 0x55b92d8914b0 <unknown>\n#11 0x55b92d888d63 <unknown>\n#12 0x55b92d85bc35 <unknown>\n#13 0x55b92d8ac138 <unknown>\n#14 0x55b92d8ac2c7 <unknown>\n#15 0x55b92d8ba093 <unknown>\n#16 0x7f3a879fb609 start_thread\n"
     ]
    }
   ],
   "source": [
    "# Abrindo o driver\n",
    "driver = webdriver.Chrome(chrome_options=options)\n",
    "\n",
    "# Pesquisando pelo url do lugar (necessário obter uma lista desses carinhas)\n",
    "url = 'https://www.google.com/maps/place/Forno+Grande+State+Park/@-20.5166421,-41.0866254,17z/data=!3m1!4b1!4m6!3m5!1s0xb99d76be3b0c49:0x216eb59a567c6025!8m2!3d-20.5166471!4d-41.0840505!16s%2Fg%2F120svn3j?entry=ttu'\n",
    "driver.get(url)\n",
    "wait = WebDriverWait(driver, 3)\n",
    "\n",
    "# Obtendo o número total de reviews\n",
    "total_number_of_reviews = driver.find_element(By.XPATH, '/html/body/div[3]/div[9]/div[9]/div/div/div[1]/div[2]/div/div[1]/div/div/div[2]/div/div[1]/div[2]/div/div[1]/div[2]/span[2]/span/span').text\n",
    "total_number_of_reviews = total_number_of_reviews.replace('(', '').replace(')', '')\n",
    "total_number_of_reviews = int(total_number_of_reviews.replace(',','')) if ',' in total_number_of_reviews else int(total_number_of_reviews)\n",
    "\n",
    "# Obtendo e clincando no botão de avaliações\n",
    "xpath_botao_avaliacoes = '/html/body/div[3]/div[9]/div[9]/div/div/div[1]/div[2]/div/div[1]/div/div/div[3]/div/div/button[2]/div[2]/div[2]'\n",
    "botao_avaliacoes = wait.until(EC.element_to_be_clickable((By.XPATH, xpath_botao_avaliacoes)))\n",
    "botao_avaliacoes.click()\n",
    "time.sleep(3)\n",
    "\n",
    "# Abrindo todas as avaliações (fazendo o scroll até a parte o fim da lista)\n",
    "scrollable_div = driver.find_element(By.XPATH,'//*[@id=\"QA0Szd\"]/div/div/div[1]/div[2]/div/div[1]/div/div/div[3]')\n",
    "for i in range(0,(round(total_number_of_reviews/10 - 1))):\n",
    "    driver.execute_script('arguments[0].scrollTop = arguments[0].scrollHeight', \n",
    "            scrollable_div)\n",
    "    time.sleep(1)\n",
    "\n",
    "# Clicando em cada um dos botões de +Fotos para abrir todas fotos disponiveis\n",
    "botoes_mais_fotos = driver.find_elements(By.CLASS_NAME, 'Tap5If')\n",
    "for botao_mais_fotos in botoes_mais_fotos:\n",
    "    botao_mais_fotos.click()\n",
    "    time.sleep(2)\n",
    "\n",
    "# Parseando todas informações disponíveis na tela\n",
    "response = BeautifulSoup(driver.page_source, 'html.parser')\n",
    "avaliacoes = response.find_all('div', class_='jftiEf fontBodyMedium')\n",
    "i = 0\n",
    "for avaliacao in avaliacoes:\n",
    "    a = 0\n",
    "    # Obtendo texto das avaliações\n",
    "    for texto in avaliacao.find_all('span', class_='wiI7pd'):\n",
    "        print(i)\n",
    "        print(texto.text)\n",
    "        i = i + 1\n",
    "    for foto in avaliacao.find_all('button', class_='Tya61d'):\n",
    "        style = foto['style']\n",
    "        url_start = style.index('url(\"') + 5\n",
    "        url_end = style.index('\")')\n",
    "        url = style[url_start:url_end]\n",
    "        url = url.split('=')[0]\n",
    "        print(a)\n",
    "        print(url)\n",
    "        a = a + 1"
   ]
  },
  {
   "cell_type": "code",
   "execution_count": null,
   "id": "5c1a58a4",
   "metadata": {},
   "outputs": [],
   "source": []
  },
  {
   "cell_type": "code",
   "execution_count": 4,
   "id": "b007bfd8",
   "metadata": {},
   "outputs": [
    {
     "name": "stdout",
     "output_type": "stream",
     "text": [
      "4\n",
      "https://lh5.googleusercontent.com/p/AF1QipMkoAV36m42WyT1iJ0Aybsiy-ONiReE9w73cUo-\n",
      "4\n",
      "https://lh5.googleusercontent.com/p/AF1QipMj7BcYVl7HL8Ln5Ayr5Mth40uO2NBnEM9UBcIv\n",
      "4\n",
      "https://lh5.googleusercontent.com/p/AF1QipNIG10M37Uy592Dcs3D4VqW7BSxD8Zf-xOqa1rc\n",
      "4\n",
      "https://lh5.googleusercontent.com/p/AF1QipPjbWFWu2aNQIMGpAQXEfKxQm29Nw0GFOADapn4\n"
     ]
    }
   ],
   "source": [
    "for foto in avaliacao.find_all('button', class_='Tya61d'):\n",
    "    style = foto['style']\n",
    "    url_start = style.index('url(\"') + 5\n",
    "    url_end = style.index('\")')\n",
    "    url = style[url_start:url_end]\n",
    "    url = url.split('=')[0]\n",
    "    print(a)\n",
    "    print(url)\n",
    "        "
   ]
  },
  {
   "cell_type": "code",
   "execution_count": null,
   "id": "81e39886",
   "metadata": {},
   "outputs": [],
   "source": []
  },
  {
   "cell_type": "code",
   "execution_count": 74,
   "id": "388efdee",
   "metadata": {},
   "outputs": [
    {
     "name": "stdout",
     "output_type": "stream",
     "text": [
      "<class 'str'>\n"
     ]
    }
   ],
   "source": [
    "print(type(botoes_mais_fotos[6].text))"
   ]
  },
  {
   "cell_type": "code",
   "execution_count": 55,
   "id": "f88541ca",
   "metadata": {},
   "outputs": [],
   "source": [
    "response = BeautifulSoup(driver.page_source, 'html.parser')\n",
    "rlist = response.find_all('div', class_='jftiEf fontBodyMedium')"
   ]
  },
  {
   "cell_type": "code",
   "execution_count": 56,
   "id": "ac8d330a",
   "metadata": {},
   "outputs": [
    {
     "data": {
      "text/plain": [
       "10"
      ]
     },
     "execution_count": 56,
     "metadata": {},
     "output_type": "execute_result"
    }
   ],
   "source": [
    "len(rlist)"
   ]
  },
  {
   "cell_type": "code",
   "execution_count": 91,
   "id": "f528c1e6",
   "metadata": {},
   "outputs": [
    {
     "data": {
      "text/plain": [
       "<div aria-label=\"Rafael Oliari\" class=\"jftiEf fontBodyMedium\" data-review-id=\"ChdDSUhNMG9nS0VJQ0FnSUNtd2VmMGlBRRAB\" jslog=\"21866;;metadata:WyIwYWhVS0V3aV9nSVB2bnFMX0FoWDdMcmtHSFZXekN5RVE0UjRJUmlnQyJd\"><div data-review-id=\"ChdDSUhNMG9nS0VJQ0FnSUNtd2VmMGlBRRAB\" jsaction=\"mouseover:pane.review.in; mouseout:pane.review.out\"><div class=\"jJc9Ad\"><div> <button aria-label=\"Foto de Rafael Oliari\" class=\"WEBjve\" data-href=\"https://www.google.com/maps/contrib/100460575781725180492/reviews?hl=pt-BR\" data-review-id=\"ChdDSUhNMG9nS0VJQ0FnSUNtd2VmMGlBRRAB\" jsaction=\"pane.review.reviewerLink\" jslog=\"95010; track:click; mutable:true;metadata:WyIwYWhVS0V3aV9nSVB2bnFMX0FoWDdMcmtHSFZXekN5RVE0aDRJU0NnQiIsIixBT3ZWYXcxWXJCTnVWTjlLaVczS1hlOTdrSnlBLCwwYWhVS0V3aV9nSVB2bnFMX0FoWDdMcmtHSFZXekN5RVE0aDRJU0NnQiwiXQ==\"><img alt=\"\" class=\"NBa7we\" src=\"https://lh3.googleusercontent.com/a-/AD_cMMTgDF9V9mPsNHl6o8kiz60lzGaxczowSsP68-wSxEw=w36-h36-p-c0x00000000-rp-mo-ba6-br100\"/></button></div> <div class=\"GHT2ce NsCY4\"><div class=\"m44Iib\"></div> <div style=\"position: relative;\"><div class=\"WNxzHc qLhwHc\"><button class=\"al6Kxe\" data-href=\"https://www.google.com/maps/contrib/100460575781725180492/reviews?hl=pt-BR\" data-review-id=\"ChdDSUhNMG9nS0VJQ0FnSUNtd2VmMGlBRRAB\" jsaction=\"pane.review.reviewerLink\" jslog=\"95010; track:click; mutable:true;metadata:WyIwYWhVS0V3aV9nSVB2bnFMX0FoWDdMcmtHSFZXekN5RVE0aDRJU0NnQiIsIixBT3ZWYXcxWXJCTnVWTjlLaVczS1hlOTdrSnlBLCwwYWhVS0V3aV9nSVB2bnFMX0FoWDdMcmtHSFZXekN5RVE0aDRJU0NnQiwiXQ==\"><div class=\"d4r55\">Rafael Oliari</div><div class=\"RfnDt\"><span>Local Guide</span> · 237 avaliações</div></button></div><div class=\"fzE5Re\"><div class=\"X1FxEd\"></div></div><button aria-label=\"Ações para a avaliação de Rafael Oliari\" class=\"PP3Y3d S1qRNe\" data-review-id=\"ChdDSUhNMG9nS0VJQ0FnSUNtd2VmMGlBRRAB\" data-tooltip=\"Ações para a avaliação de Rafael Oliari\" jsaction=\"pane.review.actionMenu; keydown:pane.review.actionMenu; focus:pane.focusTooltip; blur:pane.blurTooltip\" jslog=\"14326; track:click;metadata:WyIwYWhVS0V3aV9nSVB2bnFMX0FoWDdMcmtHSFZXekN5RVE0UjRJUmlnQyJd\"><img alt=\"\" class=\"eaLgGf\" src=\"//www.gstatic.com/images/icons/material/system_gm/1x/more_vert_black_18dp.png\"/></button></div></div><div class=\"g138K\"></div><div class=\"GHT2ce\"><div class=\"DU9Pgb\"><span aria-label=\"5 estrelas\" class=\"kvMYJc\" role=\"img\"><img alt=\"\" class=\"hCCjke vzX5Ic\" src=\"//maps.gstatic.com/consumer/images/icons/2x/ic_star_rate_14.png\"/><img alt=\"\" class=\"hCCjke vzX5Ic\" src=\"//maps.gstatic.com/consumer/images/icons/2x/ic_star_rate_14.png\"/><img alt=\"\" class=\"hCCjke vzX5Ic\" src=\"//maps.gstatic.com/consumer/images/icons/2x/ic_star_rate_14.png\"/><img alt=\"\" class=\"hCCjke vzX5Ic\" src=\"//maps.gstatic.com/consumer/images/icons/2x/ic_star_rate_14.png\"/><img alt=\"\" class=\"hCCjke vzX5Ic\" src=\"//maps.gstatic.com/consumer/images/icons/2x/ic_star_rate_14.png\"/></span><span class=\"rsqaWe\">um ano atrás</span><div class=\"Tuisuc\"></div></div><div> <div class=\"MyEned\" id=\"ChdDSUhNMG9nS0VJQ0FnSUNtd2VmMGlBRRAB\" lang=\"pt\" tabindex=\"-1\"><span class=\"wiI7pd\">Um lugar incrível. Uma vista muito bonita das montanha. Dá pra ver a Pedra Azul de um ótimo ângulo, e também dá pra ver o Pico da Bandeira (bem pequeno). A estrutura do parque é muito boa e bem cuidada, com funcionários e acesso à banheiros e bebedouro. Durante a trilha também há pontos com água da nascente.</span> <span></span></div></div><div class=\"KtCyie\"><button aria-label=\"Foto 1 na avaliação de Rafael Oliari\" class=\"Tya61d\" data-photo-index=\"0\" data-review-id=\"ChdDSUhNMG9nS0VJQ0FnSUNtd2VmMGlBRRAB\" data-tooltip=\"\" jsaction=\"pane.review.openPhoto;keydown:pane.review.openPhoto;focus:pane.focusTooltip;blur:pane.blurTooltip\" style='background-image: url(\"https://lh5.googleusercontent.com/p/AF1QipNCoeEe1fGoFA0Z0EXQnfZ1PkTkQl6jvRFT2nAy=w300-h225-p-k-no\"); width: calc(50% - 1px); padding-top: calc(37.5% - 1px); margin-right: 2px;'></button><button aria-label=\"Foto 2 na avaliação de Rafael Oliari\" class=\"Tya61d\" data-photo-index=\"1\" data-review-id=\"ChdDSUhNMG9nS0VJQ0FnSUNtd2VmMGlBRRAB\" data-tooltip=\"\" jsaction=\"pane.review.openPhoto;keydown:pane.review.openPhoto;focus:pane.focusTooltip;blur:pane.blurTooltip\" style='background-image: url(\"https://lh5.googleusercontent.com/p/AF1QipN_Et6WNFEHzfCY47WJermOdZGt-uwYFk5G3jQ1=w300-h225-p-k-no\"); width: calc(50% - 1px); padding-top: calc(37.5% - 1px);'></button><button aria-label=\"Foto 3 na avaliação de Rafael Oliari\" class=\"Tya61d\" data-photo-index=\"2\" data-review-id=\"ChdDSUhNMG9nS0VJQ0FnSUNtd2VmMGlBRRAB\" data-tooltip=\"\" jsaction=\"pane.review.openPhoto;keydown:pane.review.openPhoto;focus:pane.focusTooltip;blur:pane.blurTooltip\" style='background-image: url(\"https://lh5.googleusercontent.com/p/AF1QipPQkIKz59FcmQC_r0vvIErj84UbtuvEVSQ2WAGH=w300-h225-p-k-no\"); width: calc(50% - 1px); padding-top: calc(37.5% - 1px); margin-right: 2px; margin-top: 2px;'></button><button aria-label=\"Foto 4 na avaliação de Rafael Oliari\" class=\"Tya61d\" data-photo-index=\"3\" data-review-id=\"ChdDSUhNMG9nS0VJQ0FnSUNtd2VmMGlBRRAB\" data-tooltip=\"\" jsaction=\"pane.review.openPhoto;keydown:pane.review.openPhoto;focus:pane.focusTooltip;blur:pane.blurTooltip\" style='background-image: url(\"https://lh5.googleusercontent.com/p/AF1QipPVykffLluqU3fvA4C8EFymeIPR2d1HdK4Iv59c=w300-h225-p-k-no\"); width: calc(50% - 1px); padding-top: calc(37.5% - 1px); margin-top: 2px;'></button><button aria-label=\"Foto 5 na avaliação de Rafael Oliari\" class=\"Tya61d\" data-photo-index=\"4\" data-review-id=\"ChdDSUhNMG9nS0VJQ0FnSUNtd2VmMGlBRRAB\" data-tooltip=\"\" jsaction=\"pane.review.openPhoto;keydown:pane.review.openPhoto;focus:pane.focusTooltip;blur:pane.blurTooltip\" style='background-image: url(\"https://lh5.googleusercontent.com/p/AF1QipOL4CV9SqhElsCQaTXw6emN0-7j5MMqMJjvqJEX=w300-h225-p-k-no\"); width: calc(50% - 1px); padding-top: calc(37.5% - 1px); margin-right: 2px; margin-top: 2px;'></button><button aria-label=\"Foto 6 na avaliação de Rafael Oliari\" class=\"Tya61d\" data-photo-index=\"5\" data-review-id=\"ChdDSUhNMG9nS0VJQ0FnSUNtd2VmMGlBRRAB\" data-tooltip=\"\" jsaction=\"pane.review.openPhoto;keydown:pane.review.openPhoto;focus:pane.focusTooltip;blur:pane.blurTooltip\" style='background-image: url(\"https://lh5.googleusercontent.com/p/AF1QipO3UNHOlcxMnuuOxbxcZFSBMQ8YjA3pd7pRmLq9=w300-h225-p-k-no\"); width: calc(50% - 1px); padding-top: calc(37.5% - 1px); margin-top: 2px;'></button><button aria-label=\"Foto 7 na avaliação de Rafael Oliari\" class=\"Tya61d\" data-photo-index=\"6\" data-review-id=\"ChdDSUhNMG9nS0VJQ0FnSUNtd2VmMGlBRRAB\" data-tooltip=\"\" jsaction=\"pane.review.openPhoto;keydown:pane.review.openPhoto;focus:pane.focusTooltip;blur:pane.blurTooltip\" style='background-image: url(\"https://lh5.googleusercontent.com/p/AF1QipMalM2XIKKfsg3MIC36ogz-1siGGO9cXZHvmVMv=w300-h225-p-k-no\"); width: calc(50% - 1px); padding-top: calc(37.5% - 1px); margin-right: 2px; margin-top: 2px;'></button><button aria-label=\"Foto 8 na avaliação de Rafael Oliari\" class=\"Tya61d\" data-photo-index=\"7\" data-review-id=\"ChdDSUhNMG9nS0VJQ0FnSUNtd2VmMGlBRRAB\" data-tooltip=\"\" jsaction=\"pane.review.openPhoto;keydown:pane.review.openPhoto;focus:pane.focusTooltip;blur:pane.blurTooltip\" style='background-image: url(\"https://lh5.googleusercontent.com/p/AF1QipOm2RFecTLW8KjZpyqnPO3L-Gb7Ar2JOZCYzSY3=w300-h225-p-k-no\"); width: calc(50% - 1px); padding-top: calc(37.5% - 1px); margin-top: 2px;'></button><button aria-label=\"Foto 9 na avaliação de Rafael Oliari\" class=\"Tya61d\" data-photo-index=\"8\" data-review-id=\"ChdDSUhNMG9nS0VJQ0FnSUNtd2VmMGlBRRAB\" data-tooltip=\"\" jsaction=\"pane.review.openPhoto;keydown:pane.review.openPhoto;focus:pane.focusTooltip;blur:pane.blurTooltip\" style='background-image: url(\"https://lh5.googleusercontent.com/p/AF1QipOoaOjS9QL18fGfH4fB0O-hXybGGtxfdC8Kuo-O=w300-h225-p-k-no\"); width: calc(50% - 1px); padding-top: calc(37.5% - 1px); margin-right: 2px; margin-top: 2px;'></button><button aria-label=\"Foto 10 na avaliação de Rafael Oliari\" class=\"Tya61d\" data-photo-index=\"9\" data-review-id=\"ChdDSUhNMG9nS0VJQ0FnSUNtd2VmMGlBRRAB\" data-tooltip=\"\" jsaction=\"pane.review.openPhoto;keydown:pane.review.openPhoto;focus:pane.focusTooltip;blur:pane.blurTooltip\" style='background-image: url(\"https://lh5.googleusercontent.com/p/AF1QipOkrFuWw5nVCWTgDYlhRIj7J_JXmgKbxFfDhUaU=w300-h225-p-k-no\"); width: calc(50% - 1px); padding-top: calc(37.5% - 1px); margin-top: 2px;'></button><button aria-label=\"Foto 11 na avaliação de Rafael Oliari\" class=\"Tya61d\" data-photo-index=\"10\" data-review-id=\"ChdDSUhNMG9nS0VJQ0FnSUNtd2VmMGlBRRAB\" data-tooltip=\"\" jsaction=\"pane.review.openPhoto;keydown:pane.review.openPhoto;focus:pane.focusTooltip;blur:pane.blurTooltip\" style='background-image: url(\"https://lh5.googleusercontent.com/p/AF1QipM2q_8QNGs6m_tC8VLE72gg_5zAAWVUGgwyTcI_=w300-h225-p-k-no\"); width: calc(50% - 1px); padding-top: calc(37.5% - 1px); margin-right: 2px; margin-top: 2px;'></button><button aria-label=\"Foto 12 na avaliação de Rafael Oliari\" class=\"Tya61d\" data-photo-index=\"11\" data-review-id=\"ChdDSUhNMG9nS0VJQ0FnSUNtd2VmMGlBRRAB\" data-tooltip=\"\" jsaction=\"pane.review.openPhoto;keydown:pane.review.openPhoto;focus:pane.focusTooltip;blur:pane.blurTooltip\" style='background-image: url(\"https://lh5.googleusercontent.com/p/AF1QipMNB0WTANPYdaLem9hNd2ojs05MYJRL91hsm-mv=w300-h225-p-k-no\"); width: calc(50% - 1px); padding-top: calc(37.5% - 1px); margin-top: 2px;'></button><button aria-label=\"Foto 13 na avaliação de Rafael Oliari\" class=\"Tya61d\" data-photo-index=\"12\" data-review-id=\"ChdDSUhNMG9nS0VJQ0FnSUNtd2VmMGlBRRAB\" data-tooltip=\"\" jsaction=\"pane.review.openPhoto;keydown:pane.review.openPhoto;focus:pane.focusTooltip;blur:pane.blurTooltip\" style='background-image: url(\"https://lh5.googleusercontent.com/p/AF1QipMjRX2MC-gwzxraroGKLnBpUkIryCtTltHzJfHv=w300-h225-p-k-no\"); width: calc(50% - 1px); padding-top: calc(37.5% - 1px); margin-right: 2px; margin-top: 2px;'></button><button aria-label=\"Foto 14 na avaliação de Rafael Oliari\" class=\"Tya61d\" data-photo-index=\"13\" data-review-id=\"ChdDSUhNMG9nS0VJQ0FnSUNtd2VmMGlBRRAB\" data-tooltip=\"\" jsaction=\"pane.review.openPhoto;keydown:pane.review.openPhoto;focus:pane.focusTooltip;blur:pane.blurTooltip\" style='background-image: url(\"https://lh5.googleusercontent.com/p/AF1QipOJRoydcWLKvmoiFV0Axxswf8JrLZT-apSJ5tB8=w300-h225-p-k-no\"); width: calc(50% - 1px); padding-top: calc(37.5% - 1px); margin-top: 2px;'></button><button aria-label=\"Foto 15 na avaliação de Rafael Oliari\" class=\"Tya61d\" data-photo-index=\"14\" data-review-id=\"ChdDSUhNMG9nS0VJQ0FnSUNtd2VmMGlBRRAB\" data-tooltip=\"\" jsaction=\"pane.review.openPhoto;keydown:pane.review.openPhoto;focus:pane.focusTooltip;blur:pane.blurTooltip\" style='background-image: url(\"https://lh5.googleusercontent.com/p/AF1QipNXH2mp2J7HGt6yfI4Q--UOBu6Nnjmm3Wu0XVkH=w300-h225-p-k-no\"); width: calc(50% - 1px); padding-top: calc(37.5% - 1px); margin-right: 2px; margin-top: 2px;'></button><button aria-label=\"Foto 16 na avaliação de Rafael Oliari\" class=\"Tya61d\" data-photo-index=\"15\" data-review-id=\"ChdDSUhNMG9nS0VJQ0FnSUNtd2VmMGlBRRAB\" data-tooltip=\"\" jsaction=\"pane.review.openPhoto;keydown:pane.review.openPhoto;focus:pane.focusTooltip;blur:pane.blurTooltip\" style='background-image: url(\"https://lh5.googleusercontent.com/p/AF1QipPgzYXxZT2EAe8kGmvLlcHZhJXdJ7sbT-yUHNyN=w300-h225-p-k-no\"); width: calc(50% - 1px); padding-top: calc(37.5% - 1px); margin-top: 2px;'></button><button aria-label=\"Foto 17 na avaliação de Rafael Oliari\" class=\"Tya61d\" data-photo-index=\"16\" data-review-id=\"ChdDSUhNMG9nS0VJQ0FnSUNtd2VmMGlBRRAB\" data-tooltip=\"\" jsaction=\"pane.review.openPhoto;keydown:pane.review.openPhoto;focus:pane.focusTooltip;blur:pane.blurTooltip\" style='background-image: url(\"https://lh5.googleusercontent.com/p/AF1QipNFIdwX8VkKXW-8aX9xIHciaDspYOt1DAPKD_yv=w300-h225-p-k-no\"); width: calc(50% - 1px); padding-top: calc(37.5% - 1px); margin-right: 2px; margin-top: 2px;'></button><button aria-label=\"Foto 18 na avaliação de Rafael Oliari\" class=\"Tya61d\" data-photo-index=\"17\" data-review-id=\"ChdDSUhNMG9nS0VJQ0FnSUNtd2VmMGlBRRAB\" data-tooltip=\"\" jsaction=\"pane.review.openPhoto;keydown:pane.review.openPhoto;focus:pane.focusTooltip;blur:pane.blurTooltip\" style='background-image: url(\"https://lh5.googleusercontent.com/p/AF1QipOXMCxwirqacboP5GBc7-JZfRiSDx6Dt1YKwm08=w300-h225-p-k-no\"); width: calc(50% - 1px); padding-top: calc(37.5% - 1px); margin-top: 2px;'></button><button aria-label=\"Foto 19 na avaliação de Rafael Oliari\" class=\"Tya61d\" data-photo-index=\"18\" data-review-id=\"ChdDSUhNMG9nS0VJQ0FnSUNtd2VmMGlBRRAB\" data-tooltip=\"\" jsaction=\"pane.review.openPhoto;keydown:pane.review.openPhoto;focus:pane.focusTooltip;blur:pane.blurTooltip\" style='background-image: url(\"https://lh5.googleusercontent.com/p/AF1QipO2DC5WF99R1CrbrHO460Pni7dp2lk3QnzSSGlD=w300-h225-p-k-no\"); width: calc(50% - 1px); padding-top: calc(37.5% - 1px); margin-right: 2px; margin-top: 2px;'></button><button aria-label=\"Foto 20 na avaliação de Rafael Oliari\" class=\"Tya61d\" data-photo-index=\"19\" data-review-id=\"ChdDSUhNMG9nS0VJQ0FnSUNtd2VmMGlBRRAB\" data-tooltip=\"\" jsaction=\"pane.review.openPhoto;keydown:pane.review.openPhoto;focus:pane.focusTooltip;blur:pane.blurTooltip\" style='background-image: url(\"https://lh5.googleusercontent.com/p/AF1QipP49A8av4wn-2Dkv219Ya8AF9URscOgm5tFPk1v=w300-h225-p-k-no\"); width: calc(50% - 1px); padding-top: calc(37.5% - 1px); margin-top: 2px;'></button><button aria-label=\"Foto 21 na avaliação de Rafael Oliari\" class=\"Tya61d\" data-photo-index=\"20\" data-review-id=\"ChdDSUhNMG9nS0VJQ0FnSUNtd2VmMGlBRRAB\" data-tooltip=\"\" jsaction=\"pane.review.openPhoto;keydown:pane.review.openPhoto;focus:pane.focusTooltip;blur:pane.blurTooltip\" style='background-image: url(\"https://lh5.googleusercontent.com/p/AF1QipM91j5zXLg5nAguZvzsMoRFKjT9PJwpLBsgX31V=w300-h225-p-k-no\"); width: calc(50% - 1px); padding-top: calc(37.5% - 1px); margin-right: 2px; margin-top: 2px;'></button></div><div style=\"clear: both;\"></div><div class=\"Upo0Ec vmVquc\"><button aria-label='9 marcações \"Gostei\"' aria-pressed=\"false\" class=\"GBkF3d\" data-review-id=\"ChdDSUhNMG9nS0VJQ0FnSUNtd2VmMGlBRRAB\" jsaction=\"pane.review.toggleThumbsUp; keydown:pane.review.toggleThumbsUp\" jslog=\"25807; track:click;metadata:WyIwYWhVS0V3aV9nSVB2bnFMX0FoWDdMcmtHSFZXekN5RVE0UjRJUmlnQyJd\" title='9 marcações \"Gostei\"'><div class=\"Gd9ibe OyjIsf\"></div><img alt=\"\" class=\"dSlJg tmpOQ\" src=\"//www.gstatic.com/images/icons/material/system_gm/1x/thumb_up_gm_grey_18dp.png\"/><span class=\"znYl0\"><span class=\"Hzvxle\">Gostei</span><span class=\"pkWtMe\">9</span></span></button><button aria-label=\"Compartilhar a avaliação de Rafael Oliari\" class=\"GBkF3d\" data-review-id=\"ChdDSUhNMG9nS0VJQ0FnSUNtd2VmMGlBRRAB\" jsaction=\"pane.review.share; keydown:pane.review.share\" jslog=\"32949; track:click\"><div class=\"Gd9ibe OyjIsf\"></div><img alt=\"\" class=\"dSlJg tmpOQ\" src=\"//www.gstatic.com/images/icons/material/system_gm/1x/share_gm_grey_18dp.png\"/> <span class=\"znYl0\">Compartilhar</span></button></div></div></div></div></div>"
      ]
     },
     "execution_count": 91,
     "metadata": {},
     "output_type": "execute_result"
    }
   ],
   "source": [
    "avaliacoes[2]"
   ]
  },
  {
   "cell_type": "code",
   "execution_count": 88,
   "id": "c1b74066",
   "metadata": {},
   "outputs": [
    {
     "data": {
      "text/plain": [
       "'Experiência única, a trilha é tranquila, com alguns poços para banho no caminho e ótimos locais para tirar fotos também. A vista lá em cima é espetacular (também é possível agendar com guias locais a escalada até o topo do pico). Há também um museu na entrada do parque com vários animais preservados por taxonomia.'"
      ]
     },
     "execution_count": 88,
     "metadata": {},
     "output_type": "execute_result"
    }
   ],
   "source": [
    "rlist[1].find_all('span', class_='wiI7pd')[0].text"
   ]
  },
  {
   "cell_type": "code",
   "execution_count": 112,
   "id": "49ecac45",
   "metadata": {},
   "outputs": [
    {
     "name": "stdout",
     "output_type": "stream",
     "text": [
      "https://lh5.googleusercontent.com/p/AF1QipNCoeEe1fGoFA0Z0EXQnfZ1PkTkQl6jvRFT2nAy=w300-h225-p-k-no\n"
     ]
    }
   ],
   "source": [
    "style = avaliacoes[2].find_all('button', class_='Tya61d')[0]['style']\n",
    "url_start = style.index('url(\"') + 5\n",
    "url_end = style.index('\")')\n",
    "\n",
    "url = style[url_start:url_end]\n",
    "print(url)"
   ]
  },
  {
   "cell_type": "code",
   "execution_count": null,
   "id": "059de3c6",
   "metadata": {},
   "outputs": [],
   "source": []
  }
 ],
 "metadata": {
  "kernelspec": {
   "display_name": "Python 3 (ipykernel)",
   "language": "python",
   "name": "python3"
  },
  "language_info": {
   "codemirror_mode": {
    "name": "ipython",
    "version": 3
   },
   "file_extension": ".py",
   "mimetype": "text/x-python",
   "name": "python",
   "nbconvert_exporter": "python",
   "pygments_lexer": "ipython3",
   "version": "3.8.10"
  }
 },
 "nbformat": 4,
 "nbformat_minor": 5
}
